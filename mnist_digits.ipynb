{
 "cells": [
  {
   "cell_type": "markdown",
   "metadata": {},
   "source": [
    "## Imports"
   ]
  },
  {
   "cell_type": "code",
   "execution_count": 1,
   "metadata": {},
   "outputs": [
    {
     "name": "stdout",
     "output_type": "stream",
     "text": [
      "Test init: passed\n",
      "Test feedforward: passed\n",
      "Test backprop: passed\n",
      "Test update: passed\n"
     ]
    }
   ],
   "source": [
    "import feedforward as ff\n",
    "import numpy as np\n",
    "import matplotlib.pyplot as plt\n",
    "\n",
    "\n",
    "# The digit data from http://mnist-decoded.000webhostapp.com/\n",
    "# which they have already decoded.\n",
    "train_image_path=\"digit_data/mnist-train-images-tiff/\"\n",
    "train_label_path=\"digit_data/mnist-train-labels.txt\"\n",
    "test_image_path=\"digit_data/mnist-test-images-tiff/\"\n",
    "test_label_path=\"digit_data/mnist-test-labels.txt\""
   ]
  },
  {
   "cell_type": "markdown",
   "metadata": {},
   "source": [
    "## Sizes"
   ]
  },
  {
   "cell_type": "code",
   "execution_count": 2,
   "metadata": {},
   "outputs": [],
   "source": [
    "m = 1000\n",
    "nx = 28 * 28"
   ]
  },
  {
   "cell_type": "markdown",
   "metadata": {},
   "source": [
    "## Labels"
   ]
  },
  {
   "cell_type": "code",
   "execution_count": 3,
   "metadata": {},
   "outputs": [],
   "source": [
    "labels = np.fromfile(test_label_path, dtype=int, sep=\"\\n\")\n",
    "#one-hot encoded the labels\n",
    "y = np.eye(10)[labels].T[:,:m]\n",
    "assert y.shape == (10, m), \"y.shape={}, (nx={}, m={})\".format(y.shape, nx, m)"
   ]
  },
  {
   "cell_type": "markdown",
   "metadata": {},
   "source": [
    "## Images"
   ]
  },
  {
   "cell_type": "code",
   "execution_count": 4,
   "metadata": {},
   "outputs": [
    {
     "name": "stdout",
     "output_type": "stream",
     "text": [
      "shape = (28, 28)\n"
     ]
    },
    {
     "data": {
      "image/png": "[encoded data removed]",
      "text/plain": [
       "<Figure size 432x288 with 1 Axes>"
      ]
     },
     "metadata": {
      "needs_background": "light"
     },
     "output_type": "display_data"
    }
   ],
   "source": [
    "im = plt.imread(test_image_path + \"00068.tif\")\n",
    "plt.imshow(im, cmap=\"gray\")\n",
    "print(\"shape = {}\".format(im.shape))"
   ]
  },
  {
   "cell_type": "code",
   "execution_count": 5,
   "metadata": {},
   "outputs": [],
   "source": [
    "\n",
    "X = np.zeros((nx, m))\n",
    "for i in range(m):\n",
    "    im = plt.imread(test_image_path + \"{0:05d}.tif\".format(i+1))\n",
    "    X[:,i] = np.reshape(im, nx)\n",
    "    \n",
    "assert X.shape == (nx, m)\n"
   ]
  },
  {
   "cell_type": "code",
   "execution_count": 6,
   "metadata": {},
   "outputs": [
    {
     "name": "stdout",
     "output_type": "stream",
     "text": [
      "[1. 0. 0. 0. 0. 0. 0. 0. 0. 0.]\n"
     ]
    },
    {
     "data": {
      "text/plain": [
       "<matplotlib.image.AxesImage at 0x7f9d36be3ba8>"
      ]
     },
     "execution_count": 6,
     "metadata": {},
     "output_type": "execute_result"
    },
    {
     "data": {
      "image/png": "[encoded data removed]",
      "text/plain": [
       "<Figure size 432x288 with 1 Axes>"
      ]
     },
     "metadata": {
      "needs_background": "light"
     },
     "output_type": "display_data"
    }
   ],
   "source": [
    "# Check images and labels line up\n",
    "ind = 55\n",
    "print(y[:,ind])\n",
    "plt.imshow(X[:,ind].reshape((28,28)), cmap=\"gray\")"
   ]
  },
  {
   "cell_type": "code",
   "execution_count": 13,
   "metadata": {},
   "outputs": [
    {
     "name": "stdout",
     "output_type": "stream",
     "text": [
      "[[45.45923428]\n",
      " [40.94067168]\n",
      " [ 5.85009792]\n",
      " [42.88733301]\n",
      " [ 5.50993626]\n",
      " [45.64896607]\n",
      " [ 6.04813791]\n",
      " [ 5.06554493]\n",
      " [ 8.67184191]\n",
      " [ 4.70000005]]\n"
     ]
    }
   ],
   "source": [
    "W, b = ff.init([nx, 300, 10])\n",
    "num_iterations = 100\n",
    "for it in range(num_iterations):\n",
    "    W, b = ff.train(X, y, W, b, [ff.sigmoid, ff.sigmoid], [ff.dsigmoid, ff.dsigmoid], ff.sum_sqr_err, ff.dsum_sqr_err, 0.01, 1000)\n",
    "    A, _ = ff.feedforward(X, W, b, [ff.sigmoid, ff.sigmoid])\n",
    "    if it % 100 == 0:\n",
    "        print(ff.sum_sqr_err(A[-1], y))\n",
    "    "
   ]
  },
  {
   "cell_type": "code",
   "execution_count": 8,
   "metadata": {},
   "outputs": [
    {
     "data": {
      "text/plain": [
       "array([0.12630923, 0.03770897, 0.01292086, 0.4403197 , 0.02151995,\n",
       "       0.00251657, 0.55034265, 0.92336352, 0.08002022, 0.83873566])"
      ]
     },
     "execution_count": 8,
     "metadata": {},
     "output_type": "execute_result"
    }
   ],
   "source": [
    "A, _ = ff.feedforward(X, W, b, [ff.sigmoid, ff.sigmoid])\n",
    "A[-1][:,ind]"
   ]
  },
  {
   "cell_type": "code",
   "execution_count": 9,
   "metadata": {},
   "outputs": [
    {
     "data": {
      "text/plain": [
       "(10, 1000)"
      ]
     },
     "execution_count": 9,
     "metadata": {},
     "output_type": "execute_result"
    }
   ],
   "source": [
    "A[-1].shape"
   ]
  },
  {
   "cell_type": "code",
   "execution_count": null,
   "metadata": {},
   "outputs": [],
   "source": []
  }
 ],
 "metadata": {
  "kernelspec": {
   "display_name": "Python 3",
   "language": "python",
   "name": "python3"
  },
  "language_info": {
   "codemirror_mode": {
    "name": "ipython",
    "version": 3
   },
   "file_extension": ".py",
   "mimetype": "text/x-python",
   "name": "python",
   "nbconvert_exporter": "python",
   "pygments_lexer": "ipython3",
   "version": "3.7.3"
  }
 },
 "nbformat": 4,
 "nbformat_minor": 2
}
