{
 "cells": [
  {
   "cell_type": "markdown",
   "metadata": {},
   "source": [
    "## Imports"
   ]
  },
  {
   "cell_type": "code",
   "execution_count": 6,
   "metadata": {},
   "outputs": [],
   "source": [
    "import feedforward as ff\n",
    "import numpy as np\n",
    "import matplotlib.pyplot as plt\n",
    "\n",
    "\n",
    "# The digit data from http://mnist-decoded.000webhostapp.com/\n",
    "# which they have already decoded.\n",
    "train_image_path=\"digit_data/mnist-train-images-tiff/\"\n",
    "train_label_path=\"digit_data/mnist-train-labels.txt\"\n",
    "test_image_path=\"digit_data/mnist-test-images-tiff/\"\n",
    "test_label_path=\"digit_data/mnist-test-labels.txt\""
   ]
  },
  {
   "cell_type": "markdown",
   "metadata": {},
   "source": [
    "## Sizes"
   ]
  },
  {
   "cell_type": "code",
   "execution_count": 7,
   "metadata": {},
   "outputs": [],
   "source": [
    "m = 100\n",
    "nx = 28 * 28"
   ]
  },
  {
   "cell_type": "markdown",
   "metadata": {},
   "source": [
    "## Labels"
   ]
  },
  {
   "cell_type": "code",
   "execution_count": 8,
   "metadata": {},
   "outputs": [],
   "source": [
    "labels = np.fromfile(test_label_path, dtype=int, sep=\"\\n\")\n",
    "#one-hot encoded the labels\n",
    "y = np.eye(10)[labels].T[:,:m]\n",
    "assert y.shape == (10, m), \"y.shape={}, (nx={}, m={})\".format(y.shape, nx, m)"
   ]
  },
  {
   "cell_type": "markdown",
   "metadata": {},
   "source": [
    "## Images"
   ]
  },
  {
   "cell_type": "code",
   "execution_count": 9,
   "metadata": {},
   "outputs": [
    {
     "name": "stdout",
     "output_type": "stream",
     "text": [
      "shape = (28, 28)\n"
     ]
    },
    {
     "data": {
      "image/png": "[encoded data removed]",
      "text/plain": [
       "<Figure size 432x288 with 1 Axes>"
      ]
     },
     "metadata": {
      "needs_background": "light"
     },
     "output_type": "display_data"
    }
   ],
   "source": [
    "im = plt.imread(test_image_path + \"00044.tif\")\n",
    "plt.imshow(im, cmap=\"gray\")\n",
    "print(\"shape = {}\".format(im.shape))"
   ]
  },
  {
   "cell_type": "code",
   "execution_count": 10,
   "metadata": {},
   "outputs": [],
   "source": [
    "\n",
    "X = np.zeros((nx, m))\n",
    "for i in range(m):\n",
    "    im = plt.imread(test_image_path + \"{0:05d}.tif\".format(i+1)) /255\n",
    "    X[:,i] = np.reshape(im, nx)\n",
    "    \n",
    "assert X.shape == (nx, m)\n"
   ]
  },
  {
   "cell_type": "code",
   "execution_count": 11,
   "metadata": {},
   "outputs": [
    {
     "name": "stdout",
     "output_type": "stream",
     "text": [
      "[0. 0. 0. 0. 0. 0. 1. 0. 0. 0.]\n"
     ]
    },
    {
     "data": {
      "image/png": "[encoded data removed]",
      "text/plain": [
       "<Figure size 432x288 with 1 Axes>"
      ]
     },
     "metadata": {
      "needs_background": "light"
     },
     "output_type": "display_data"
    }
   ],
   "source": [
    "def show_image(im):\n",
    "    plt.imshow(im.reshape((28,28)), cmap=\"gray\")\n",
    "    \n",
    "# Check images and labels line up   \n",
    "i = 66\n",
    "show_image(X[:,i])\n",
    "print(y[:,i])"
   ]
  },
  {
   "cell_type": "code",
   "execution_count": 12,
   "metadata": {},
   "outputs": [
    {
     "name": "stdout",
     "output_type": "stream",
     "text": [
      "0.49924140153628666\n",
      "0.44288283141145934\n",
      "0.4424224254840219\n",
      "0.43899969390771504\n",
      "0.3704390548037881\n",
      "0.31586210467413256\n",
      "0.23938207507966708\n",
      "0.1779514647997486\n",
      "0.11609907737220333\n",
      "0.08121327939718616\n",
      "0.05088887454087347\n",
      "0.02983483792641405\n",
      "0.019814430547477304\n",
      "0.01620530169309945\n",
      "0.014502430283223363\n",
      "0.013516224677349415\n",
      "0.012873526425138232\n",
      "0.012421271704390197\n",
      "0.012085344988927568\n",
      "0.011825416213423758\n",
      "0.011617547911358451\n",
      "0.011446532661516866\n",
      "0.011302211095682994\n",
      "0.01117770741548622\n",
      "0.011068723190455808\n",
      "0.010973019112566252\n",
      "0.010889008634576184\n",
      "0.010814434499568393\n",
      "0.010746925889420153\n",
      "0.010684751475305714\n",
      "0.010626688795860161\n",
      "0.01057176239650853\n",
      "0.010519117082172888\n",
      "0.010467947860099185\n",
      "0.010417432300457975\n",
      "0.01036664076420346\n",
      "0.010314401050890702\n",
      "0.010259077565111784\n",
      "0.010198178312290527\n",
      "0.010127577217823047\n",
      "0.010039784108109176\n",
      "0.00991958724626375\n",
      "0.009731521357968207\n",
      "0.009379575915488879\n",
      "0.008596119113288054\n",
      "0.007039966769340972\n",
      "0.0050235760818118595\n",
      "0.002921212534459508\n",
      "0.001739142060508718\n",
      "0.001222517139300277\n",
      "0.0009623474746753491\n",
      "0.0008088747819939748\n",
      "0.000707502309114401\n",
      "0.0006350543944087961\n",
      "0.0005802632082707565\n",
      "0.0005370445624024865\n",
      "0.0005018376102543645\n",
      "0.0004724226088656849\n",
      "0.00044734408713248267\n",
      "0.0004256074083409534\n",
      "0.00040650903471040414\n",
      "0.0003895366168102072\n",
      "0.0003743076046094997\n",
      "0.00036053012030749256\n",
      "0.0003479772182856388\n",
      "0.00033646947758791794\n",
      "0.00032586293951994796\n",
      "0.0003160405664774488\n",
      "0.00030690607605192205\n",
      "0.0002983794117604718\n",
      "0.0002903933632313807\n",
      "0.000282891007815041\n",
      "0.0002758237485507273\n",
      "0.0002691497913909724\n",
      "0.0002628329502913516\n",
      "0.00025684170003106133\n",
      "0.000251148418341338\n",
      "0.00024572877421814474\n",
      "0.0002405612302211518\n",
      "0.0002356266344605674\n",
      "0.00023090788375134023\n",
      "0.00022638964368633174\n",
      "0.0002220581145707669\n",
      "0.00021790083456609287\n",
      "0.00021390651322152602\n",
      "0.0002100648899755684\n",
      "0.0002063666132953754\n",
      "0.00020280313696752198\n",
      "0.00019936663071716082\n",
      "0.00019604990285651525\n",
      "0.0001928463330800746\n",
      "0.0001897498138567951\n",
      "0.00018675469913734748\n",
      "0.00018385575931089223\n",
      "0.0001810481415217898\n",
      "0.0001783273346002974\n",
      "0.0001756891379792104\n",
      "0.00017312963406555828\n",
      "0.0001706451636169163\n",
      "0.00016823230373875605\n"
     ]
    }
   ],
   "source": [
    "W, b = ff.init([nx, 300, 10])\n",
    "num_iterations = 10000\n",
    "for it in range(num_iterations):\n",
    "    W, b = ff.train(X, y, W, b, [ff.sigmoid, ff.sigmoid], [ff.dsigmoid, ff.dsigmoid], ff.sum_sqr_err, ff.dsqr_loss, 1, 1000)\n",
    "    A, _ = ff.feedforward(X, W, b, [ff.sigmoid, ff.sigmoid])\n",
    "\n",
    "    if it % 100 == 0:\n",
    "        print(np.sum(ff.sum_sqr_err(A[-1], y))/ 10)\n",
    "    "
   ]
  },
  {
   "cell_type": "code",
   "execution_count": 15,
   "metadata": {},
   "outputs": [
    {
     "data": {
      "text/plain": [
       "array([2.42565327e-04, 1.12650963e-02, 9.78926247e-01, 8.87309176e-04,\n",
       "       4.07063992e-06, 3.92734257e-04, 8.62943405e-04, 1.76720350e-02,\n",
       "       1.96476019e-03, 4.31043601e-05])"
      ]
     },
     "execution_count": 15,
     "metadata": {},
     "output_type": "execute_result"
    },
    {
     "data": {
      "image/png": "[encoded data removed]",
      "text/plain": [
       "<Figure size 432x288 with 1 Axes>"
      ]
     },
     "metadata": {
      "needs_background": "light"
     },
     "output_type": "display_data"
    }
   ],
   "source": [
    "i = 77\n",
    "show_image(X[:,i])\n",
    "A, _ = ff.feedforward(X, W, b, [ff.sigmoid, ff.sigmoid])\n",
    "A[-1][:,i]"
   ]
  },
  {
   "cell_type": "code",
   "execution_count": 16,
   "metadata": {},
   "outputs": [
    {
     "data": {
      "text/plain": [
       "2"
      ]
     },
     "execution_count": 16,
     "metadata": {},
     "output_type": "execute_result"
    }
   ],
   "source": [
    "np.argmax(A[-1][:,i])"
   ]
  },
  {
   "cell_type": "code",
   "execution_count": null,
   "metadata": {},
   "outputs": [],
   "source": []
  }
 ],
 "metadata": {
  "kernelspec": {
   "display_name": "Python 3",
   "language": "python",
   "name": "python3"
  },
  "language_info": {
   "codemirror_mode": {
    "name": "ipython",
    "version": 3
   },
   "file_extension": ".py",
   "mimetype": "text/x-python",
   "name": "python",
   "nbconvert_exporter": "python",
   "pygments_lexer": "ipython3",
   "version": "3.8.5"
  }
 },
 "nbformat": 4,
 "nbformat_minor": 2
}
